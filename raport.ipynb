{
 "cells": [
  {
   "cell_type": "code",
   "execution_count": 1,
   "metadata": {},
   "outputs": [
    {
     "ename": "SyntaxError",
     "evalue": "invalid syntax (<ipython-input-1-a13878be81e0>, line 1)",
     "output_type": "error",
     "traceback": [
      "\u001b[0;36m  File \u001b[0;32m\"<ipython-input-1-a13878be81e0>\"\u001b[0;36m, line \u001b[0;32m1\u001b[0m\n\u001b[0;31m    The best location for a Chinese restaurant in Warsaw\u001b[0m\n\u001b[0m           ^\u001b[0m\n\u001b[0;31mSyntaxError\u001b[0m\u001b[0;31m:\u001b[0m invalid syntax\n"
     ]
    }
   ],
   "source": [
    "The best location for a Chinese restaurant in Warsaw  \n",
    "1.\tIntroduction\n",
    "a.\tBackground\n",
    "Warsaw is the capital of Poland, it is also the largest Polish city. It is responsible for a large part of the gross domestic product. Recent years have brought development to Warsaw. Many companies have moved their facilities here as a result of the UK leaving the European Union. Moreover, the unstable situation in Ukraine resulted in a large influx of people from the east to Poland, and especially to Poland.\n",
    "b.\tProblem\n",
    "How to take advantage of the dynamic development of the city? Where to establish new service facilities such as restaurants\n"
   ]
  },
  {
   "cell_type": "markdown",
   "metadata": {},
   "source": [
    "### 2.\tData source\n",
    "a.\thttps://pl.wikipedia.org/wiki/Ludność_Warszawy showing how many inhabitants there are in each district and how this value has changed over 12 years, it will help identify promising regions \n",
    "b.\tData from foursquare to check whether there are already similar restaurants in the area\n"
   ]
  },
  {
   "cell_type": "markdown",
   "metadata": {},
   "source": [
    "### 3.Methodology\n",
    "\n",
    "a.In this project we will direct our efforts on detecting areas of Warsaw that have low restaurant density, particularly those with low number of Chinese restaurants. In first step we have collected the required data: location and identify Chinese restaurants (according to Foursquare categorization). In the second part, we will be subject to demographic change. We will examine which places are the most populated, which have a tendency to increase in population, and which are the opposite.\n"
   ]
  },
  {
   "cell_type": "markdown",
   "metadata": {},
   "source": [
    "### 4.Results and Discussion\n",
    "a. According to our analysis, there are many Chinese restaurants in Warsaw, most of which are located in the central part of the city. There are also a lot of restaurants in the south (Mokotów and Wilanów). The best place to set up a restaurant seems to be in the north of Żoliborz, as its population is slowly growing, moreover, neighboring Białołęka is growing very fast. The establishment of a restaurant in such a place could be an attraction for the residents. They would not have to go to the centre to eat Chinese food. \n",
    "\n"
   ]
  },
  {
   "cell_type": "markdown",
   "metadata": {},
   "source": [
    "### 5.\tConclusion\n",
    "a.\tPurpose of this project was to identify Warsaw areas close to center with low number of restaurants (particularly Chinese restaurants) in order to aid stakeholders in narrowing down the search for optimal location for a new Italian restaurant. Final decission on optimal restaurant location will be made by stakeholders based on specific characteristics of neighborhoods and locations in every recommended zone, taking into consideration additional factors like attractiveness of each location (proximity to park or water), levels of noise / proximity to major roads, real estate availability, prices, social and economic dynamics of every neighborhood etc.\n",
    "\n"
   ]
  },
  {
   "cell_type": "code",
   "execution_count": null,
   "metadata": {},
   "outputs": [],
   "source": []
  }
 ],
 "metadata": {
  "kernelspec": {
   "display_name": "Python 3",
   "language": "python",
   "name": "python3"
  },
  "language_info": {
   "codemirror_mode": {
    "name": "ipython",
    "version": 3
   },
   "file_extension": ".py",
   "mimetype": "text/x-python",
   "name": "python",
   "nbconvert_exporter": "python",
   "pygments_lexer": "ipython3",
   "version": "3.7.3"
  }
 },
 "nbformat": 4,
 "nbformat_minor": 2
}
