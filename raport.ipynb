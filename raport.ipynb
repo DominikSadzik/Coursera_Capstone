{
 "cells": [
  {
   "cell_type": "markdown",
   "metadata": {},
   "source": [
    "### The best location for a Chinese restaurant in Warsaw\n",
    "#### 1. Introduction\n",
    "#####  a. Background\n",
    "Warsaw is the capital of Poland, it is also the largest Polish city. It is\n",
    "responsible for a large part of the gross domestic product. Recent years\n",
    "have brought development to Warsaw. Many companies have moved their\n",
    "facilities here as a result of the UK leaving the European Union. Moreover,\n",
    "the unstable situation in Ukraine resulted in a large influx of people from\n",
    "the east to Poland, and especially to Poland.\n",
    "#####  b. Problem\n",
    "How to take advantage of the dynamic development of the city? Where to\n",
    "establish new service facilities such as restaurants"
   ]
  },
  {
   "cell_type": "markdown",
   "metadata": {},
   "source": [
    "#### 2. Data source\n",
    "a. https://pl.wikipedia.org/wiki/Ludność_Warszawy showing how many\n",
    "inhabitants there are in each district and how this value has changed over 12\n",
    "years, it will help identify promising regions\n",
    "\n",
    "b. Data foursquare to check whether there are already similar restaurants in\n",
    "the area"
   ]
  },
  {
   "cell_type": "markdown",
   "metadata": {},
   "source": [
    "### 3. Methodology\n",
    "\n",
    "a. In this project we will direct our efforts on detecting areas of Warsaw that\n",
    "have low restaurant density, particularly those with low number of Chinese\n",
    "restaurants. In first step we have collected the required data: location and\n",
    "identify Chinese restaurants (according to Foursquare categorization). In\n",
    "the second part, we will be subject to demographic change. We will\n",
    "examine which places are the most populated, which have a tendency to\n",
    "increase in population, and which are the opposite."
   ]
  },
  {
   "cell_type": "markdown",
   "metadata": {},
   "source": [
    "### 4. Results and Discussion\n",
    "a. According to our analysis, there are many Chinese restaurants in Warsaw,\n",
    "most of which are located in the central part of the city. There are also a lot\n",
    "of restaurants in the south (Mokotów and Wilanów). The best place to set\n",
    "up a restaurant seems to be in the north of Żoliborz, as its population is\n",
    "slowly growing, moreover, neighboring Białołęka is growing very fast. The\n",
    "establishment of a restaurant in such a place could be an attraction for the\n",
    "residents. They would not have to go to the centre to eat Chinese food."
   ]
  },
  {
   "cell_type": "code",
   "execution_count": null,
   "metadata": {},
   "outputs": [],
   "source": [
    "5. Conclusion\n",
    "a. Purpose of this project was to identify Warsaw areas close to center with\n",
    "low number of restaurants (particularly Chinese restaurants) in order to aid\n",
    "stakeholders in narrowing down the search for optimal location for a new Chene restaurant. Final decission on optimal restaurant location will be\n",
    "made by stakeholders based on specific characteristics of neighborhoods\n",
    "and locations in every recommended zone, taking into consideration\n",
    "additional factors like attractiveness of each location (proximity to park or\n",
    "water), levels of noise / proximity to major roads, real estate availability,\n",
    "prices, social and economic dynamics of every neighborhood etc."
   ]
  }
 ],
 "metadata": {
  "kernelspec": {
   "display_name": "Python 3",
   "language": "python",
   "name": "python3"
  },
  "language_info": {
   "codemirror_mode": {
    "name": "ipython",
    "version": 3
   },
   "file_extension": ".py",
   "mimetype": "text/x-python",
   "name": "python",
   "nbconvert_exporter": "python",
   "pygments_lexer": "ipython3",
   "version": "3.7.3"
  }
 },
 "nbformat": 4,
 "nbformat_minor": 2
}
